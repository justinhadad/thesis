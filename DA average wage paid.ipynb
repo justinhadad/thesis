{
 "cells": [
  {
   "cell_type": "code",
   "execution_count": 1,
   "metadata": {},
   "outputs": [
    {
     "data": {
      "image/png": "[encoded data removed]",
      "text/plain": [
       "<Figure size 432x288 with 1 Axes>"
      ]
     },
     "metadata": {
      "needs_background": "light"
     },
     "output_type": "display_data"
    },
    {
     "name": "stdout",
     "output_type": "stream",
     "text": [
      "[0.0, 0.0, 0.0, 0.0, 0.0, 0.0, 0.0, 0.0, 0.0, 0.0, 0.806809019189194, 0.641584735749401, 0.5532627788463023, 0.47864004852083825, 0.41168504812402723, 0.36994487507850365, 0.34386199088868497, 0.3135488041772909, 0.2840881442374045, 0.26515632829423474, 0.24658577380224045, 0.23612507832006874, 0.22108591318544982, 0.20710995942538624, 0.19751264299260132, 0.19133428389403384, 0.17799941145592377, 0.17108108207244238, 0.16380481601133667, 0.16053707368861064, 0.15272857369128856, 0.14873118508383812, 0.14136125118902346, 0.13655527686109678, 0.12890708504398593, 0.1288611774765909, 0.1258802178243742, 0.1213833860296275, 0.11738129851492048, 0.11305975110308487, 0.10804384936345107, 0.11072858358402426, 0.1042060344667311, 0.10064107195254861, 0.10003657842044068, 0.0957406253572589, 0.09721357724524665, 0.09474401015146099, 0.09135001700102652, 0.08915535585568328, 0.08751872120820484, 0.08567682576965684, 0.08134408557265659, 0.08135078744339981, 0.07941563464333141, 0.07855285046285365, 0.07551679640917909, 0.07367305369494698, 0.07285757487447422, 0.07213064298273061, 0.0704571948638938, 0.07156191535271804, 0.06871397339635042, 0.0669007224309725, 0.06524536037462268, 0.06478960228288382, 0.06291713011225405, 0.0630858032717408, 0.06246492308519236, 0.06031256550982333, 0.06278892155332541, 0.06039002335106167, 0.05794568005128227, 0.058049847509138504, 0.05689273711789186, 0.05563197429428841, 0.05485279131498592, 0.053511543908191975, 0.054497484346642484, 0.052475140772923694, 0.051497228830738796, 0.049843663190890564, 0.0517375993999071, 0.05045503024676968, 0.048686214132484175, 0.04942082760227082, 0.048326206048763025, 0.04804692664638495, 0.04804489096586062, 0.047300564554745995, 0.047626431957011564, 0.04627743733540849, 0.04539634114283639, 0.04452292243315857, 0.04361052583619238, 0.042389870007555425, 0.043877043218512074, 0.04253790762492256, 0.04305779080890138, 0.04103999277234474]\n"
     ]
    }
   ],
   "source": [
    "import numpy as np\n",
    "import math\n",
    "import random\n",
    "from copy import copy, deepcopy\n",
    "import pandas as pd  \n",
    "from matplotlib import pyplot as plt\n",
    "\n",
    "\n",
    "def runauction(x):\n",
    "    n = x\n",
    "    s = 10\n",
    "\n",
    "    employees = [[random.uniform(0,2) for i in range(s)] for j in range(n)]\n",
    "    left=n\n",
    "    wage=0\n",
    "    employee_number=100\n",
    "    occupied = []\n",
    "    cost=0\n",
    "    \n",
    "    wages=[]\n",
    "    costs=[]\n",
    "\n",
    "    for j in range(s):\n",
    "            minimum=100\n",
    "            for i in range(n):\n",
    "                if employees[i][j]<minimum and i not in occupied:\n",
    "                    minimum=employees[i][j]\n",
    "                    employee_number=i\n",
    "            wages.append(2-((left-1)/left)*(2-minimum))\n",
    "            cost+=minimum\n",
    "            costs.append(minimum)\n",
    "            left-=1\n",
    "            occupied.append(employee_number)\n",
    "    _sum=0\n",
    "    for i in range(len(wages)):\n",
    "        _sum+=wages[i]\n",
    "    average_wage=_sum/s\n",
    "    \n",
    "    return(average_wage)\n",
    "\n",
    "def main():\n",
    "    \n",
    "#     print(sum/n)\n",
    "\n",
    "\n",
    "    \n",
    "    iterations=100\n",
    "    limit_emp = 100\n",
    "    costs = [0]*limit_emp\n",
    "    avg_wages=[0]*limit_emp\n",
    "    \n",
    "    for _iter in range(iterations):\n",
    "        for _x in range(10,limit_emp,1):\n",
    "            avg_wages[_x]+=runauction(_x)\n",
    "    \n",
    "    for item in range(len(avg_wages)):\n",
    "        avg_wages[item]=avg_wages[item]/iterations\n",
    "\n",
    "    \n",
    "    plt.plot(avg_wages)\n",
    "    plt.title('Lower bound for average wage paid in Dutch auction \\n S=10, N=[10,100], 100 iterations')\n",
    "    plt.xlabel('Number of Employees')\n",
    "    plt.ylabel('Wage')\n",
    "    plt.xlim([10, limit_emp])\n",
    "    plt.show()\n",
    "    \n",
    "    print(avg_wages)\n",
    "    \n",
    "        \n",
    "#     plt.plot(avg_wages)\n",
    "#     plt.title('Lower bound for average wage paid in Dutch auction \\n S=100, N=[100,1000], 100 iterations')\n",
    "#     plt.xlabel('Number of Employees')\n",
    "#     plt.ylabel('Wage')\n",
    "#     plt.xlim([100, limit_emp])\n",
    "#     plt.show()\n",
    "    \n",
    "#     for _iter in range(iterations):\n",
    "#         for _x in range(11,limit_emp,1):\n",
    "#             avg_wages[_x]+=(runauction(_x))\n",
    "    \n",
    "    \n",
    "    \n",
    "#     for _iter in range(iterations):\n",
    "#         for _x in range(10,limit_emp,1):\n",
    "#             avg_wages[_x]+=(runauction(_x))\n",
    "        \n",
    "#     for item in range(len(avg_wages)):\n",
    "#         avg_wages[item]=avg_wages[item]/iterations\n",
    "\n",
    "    \n",
    "main()"
   ]
  },
  {
   "cell_type": "code",
   "execution_count": null,
   "metadata": {},
   "outputs": [],
   "source": []
  },
  {
   "cell_type": "code",
   "execution_count": null,
   "metadata": {},
   "outputs": [],
   "source": []
  }
 ],
 "metadata": {
  "kernelspec": {
   "display_name": "Python 3",
   "language": "python",
   "name": "python3"
  },
  "language_info": {
   "codemirror_mode": {
    "name": "ipython",
    "version": 3
   },
   "file_extension": ".py",
   "mimetype": "text/x-python",
   "name": "python",
   "nbconvert_exporter": "python",
   "pygments_lexer": "ipython3",
   "version": "3.7.6"
  }
 },
 "nbformat": 4,
 "nbformat_minor": 4
}
