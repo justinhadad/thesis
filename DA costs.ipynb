{
 "cells": [
  {
   "cell_type": "code",
   "execution_count": 30,
   "metadata": {},
   "outputs": [
    {
     "data": {
      "image/png": "[encoded data removed]",
      "text/plain": [
       "<Figure size 432x288 with 1 Axes>"
      ]
     },
     "metadata": {
      "needs_background": "light"
     },
     "output_type": "display_data"
    },
    {
     "name": "stdout",
     "output_type": "stream",
     "text": [
      "[0.0, 0.0, 0.0, 0.0, 0.0, 0.0, 0.0, 0.0, 0.0, 0.0, 0.4171483240058999, 0.30980963782714427, 0.2703828197098918, 0.23298525308084325, 0.2006927401069566, 0.18590376085084237, 0.17112117367494858, 0.14912005578626458, 0.14594563399164398, 0.12962548735949259, 0.12694688396887077, 0.12569674541905315, 0.11068570316099023, 0.10616312863729582, 0.09982126555924482, 0.09341078014539611, 0.09290827600031656, 0.09097481641791429, 0.08630151136932207, 0.07791646352088084, 0.0746271797964645, 0.07122520057343747, 0.07225975164129372, 0.0689242820629325, 0.06773341329018029, 0.06608322278940969, 0.061247758640408094, 0.06002486782761286, 0.05759939410818071, 0.05602680555356837, 0.05605414703077386, 0.05398138342255236, 0.0494738557357757, 0.05021039256860562, 0.04891900379106159, 0.04885406129340424, 0.04619510196166141, 0.047543481205076406, 0.04400952321250445, 0.042715195447509104, 0.043938309697287986, 0.041328898210772194, 0.04244917785536697, 0.0392106543032611, 0.038222570013090346, 0.0382881440379378, 0.03833344997474758, 0.039356406269826144, 0.0379386365169371, 0.034506087871256426, 0.03551253222974453, 0.03696486393712095, 0.03468832513092498, 0.03395282541398079, 0.03300334527455152, 0.03335812189142739, 0.03314613887071018, 0.03263149253954934, 0.033873711529158204, 0.03017993969686209, 0.03193888619320168, 0.029362548706745432, 0.029579881412152096, 0.027491241765224973, 0.028485906550773498, 0.028194095613621566, 0.026809077054800016, 0.027869225235550736, 0.026696647147929426, 0.02704697008050934, 0.025986507261190436, 0.02496152443055431, 0.025169196892118984, 0.026739257649102507, 0.02590580105436839, 0.0246905086968707, 0.023930589723753396, 0.02495408258252081, 0.023695067252809617, 0.024551849172656987, 0.023390237578675862, 0.02318703097181699, 0.022864211437379902, 0.022727665430282835, 0.022320858013604204, 0.022835410875277004, 0.0213540984688147, 0.021837017136846004, 0.021316023935942865, 0.02048019183861091]\n"
     ]
    }
   ],
   "source": [
    "import numpy as np\n",
    "import math\n",
    "import random\n",
    "from copy import copy, deepcopy\n",
    "import pandas as pd  \n",
    "from matplotlib import pyplot as plt\n",
    "\n",
    "\n",
    "def runauction(x):\n",
    "    n = x\n",
    "    s = 10\n",
    "\n",
    "    employees = [[random.uniform(0,2) for i in range(s)] for j in range(n)]\n",
    "    left=n\n",
    "    wage=0\n",
    "    employee_number=100\n",
    "    occupied = []\n",
    "    cost=0\n",
    "    \n",
    "    wages=[]\n",
    "    costs=[]\n",
    "\n",
    "    for j in range(s):\n",
    "            minimum=100\n",
    "            for i in range(n):\n",
    "                if employees[i][j]<minimum and i not in occupied:\n",
    "                    minimum=employees[i][j]\n",
    "                    employee_number=i\n",
    "            wages.append(2-((left-1)/left)*(2-minimum))\n",
    "            costs.append(minimum)\n",
    "            left-=1\n",
    "            occupied.append(employee_number)\n",
    "    _sum=0\n",
    "    for i in range(len(costs)):\n",
    "        _sum+=costs[i]\n",
    "    average_cost=_sum/s\n",
    "    \n",
    "    return(average_cost)\n",
    "\n",
    "def main():\n",
    "    \n",
    "#     print(sum/n)\n",
    "\n",
    "\n",
    "    \n",
    "    iterations=100\n",
    "    limit_emp = 100\n",
    "    avg_cost=[0]*limit_emp\n",
    "    \n",
    "    for _iter in range(iterations):\n",
    "        for _x in range(10,limit_emp,1):\n",
    "            avg_cost[_x]+=runauction(_x)\n",
    "    \n",
    "    for item in range(len(avg_cost)):\n",
    "        avg_cost[item]=avg_cost[item]/iterations\n",
    "    \n",
    "    plt.plot(avg_cost)\n",
    "    plt.title('Average cost of each assignment \\n S=10, N=[10,100], 100 iterations')\n",
    "    plt.xlabel('Number of Employees')\n",
    "    plt.ylabel('Cost')\n",
    "    plt.xlim([10, limit_emp])\n",
    "    plt.show()\n",
    "        \n",
    "    print(avg_cost)\n",
    "#     for _iter in range(iterations):\n",
    "#         for _x in range(11,limit_emp,1):\n",
    "#             avg_wages[_x]+=(runauction(_x))\n",
    "    \n",
    "    \n",
    "    \n",
    "#     for _iter in range(iterations):\n",
    "#         for _x in range(10,limit_emp,1):\n",
    "#             avg_wages[_x]+=(runauction(_x))\n",
    "        \n",
    "#     for item in range(len(avg_wages)):\n",
    "#         avg_wages[item]=avg_wages[item]/iterations\n",
    "\n",
    "    \n",
    "main()"
   ]
  },
  {
   "cell_type": "code",
   "execution_count": null,
   "metadata": {},
   "outputs": [],
   "source": []
  },
  {
   "cell_type": "code",
   "execution_count": null,
   "metadata": {},
   "outputs": [],
   "source": []
  }
 ],
 "metadata": {
  "kernelspec": {
   "display_name": "Python 3",
   "language": "python",
   "name": "python3"
  },
  "language_info": {
   "codemirror_mode": {
    "name": "ipython",
    "version": 3
   },
   "file_extension": ".py",
   "mimetype": "text/x-python",
   "name": "python",
   "nbconvert_exporter": "python",
   "pygments_lexer": "ipython3",
   "version": "3.7.6"
  }
 },
 "nbformat": 4,
 "nbformat_minor": 4
}
