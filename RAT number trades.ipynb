{
 "cells": [
  {
   "cell_type": "code",
   "execution_count": 2,
   "metadata": {},
   "outputs": [
    {
     "data": {
      "image/png": "[encoded data removed]",
      "text/plain": [
       "<Figure size 432x288 with 1 Axes>"
      ]
     },
     "metadata": {
      "needs_background": "light"
     },
     "output_type": "display_data"
    }
   ],
   "source": [
    "import numpy as np\n",
    "import math\n",
    "import random\n",
    "from copy import copy, deepcopy\n",
    "import pandas as pd  \n",
    "from matplotlib import pyplot as plt\n",
    "\n",
    "\n",
    "def runcycle(x):\n",
    "    n = x\n",
    "    s = x\n",
    "\n",
    "    employees = [[random.uniform(0,2) for i in range(n)] for j in range(s)]\n",
    "    y= deepcopy(employees)\n",
    "\n",
    "    trades = 0\n",
    "    for i in range(n):\n",
    "        for j in range(s):\n",
    "            if employees[i][i] > employees[i][j]:\n",
    "                if employees[j][i]< employees[j][j]:\n",
    "                    temp1=employees[i][j]\n",
    "                    temp2=employees[j][i]\n",
    "                    employees[i][j]=employees[i][i]\n",
    "                    employees[j][i]=employees[j][j]\n",
    "                    employees[i][i]=temp1\n",
    "                    employees[j][j]=temp2\n",
    "                    trades+=1\n",
    "            \n",
    "    return trades\n",
    "\n",
    "def main():\n",
    "    \n",
    "#     print(sum/n)\n",
    "\n",
    "\n",
    "    \n",
    "    iterations=100\n",
    "    limit_emp = 100\n",
    "    costs = [0]*limit_emp\n",
    "  \n",
    "    total_trades = [0]*limit_emp\n",
    "    \n",
    "    for _iter in range(iterations):\n",
    "        for _x in range(2,limit_emp,1):\n",
    "            total_trades[_x]+=(runcycle(_x))\n",
    "        \n",
    "    for item in range(len(total_trades)):\n",
    "        total_trades[item]=total_trades[item]/iterations\n",
    "\n",
    "\n",
    "    \n",
    "   \n",
    "    \n",
    "#     print(costs)\n",
    "    # emps = [2:100]\n",
    "        \n",
    "\n",
    "    \n",
    "    \n",
    "    plt.plot(total_trades)\n",
    "    plt.title('Average number of trades \\n N=S and with 100 iterations')\n",
    "    plt.xlabel('Number of Employees')\n",
    "    plt.ylabel('Trades')\n",
    "    plt.xlim([2, 100])\n",
    "    plt.show()\n",
    "        \n",
    "  \n",
    "\n",
    "main()"
   ]
  },
  {
   "cell_type": "code",
   "execution_count": null,
   "metadata": {},
   "outputs": [],
   "source": []
  }
 ],
 "metadata": {
  "kernelspec": {
   "display_name": "Python 3",
   "language": "python",
   "name": "python3"
  },
  "language_info": {
   "codemirror_mode": {
    "name": "ipython",
    "version": 3
   },
   "file_extension": ".py",
   "mimetype": "text/x-python",
   "name": "python",
   "nbconvert_exporter": "python",
   "pygments_lexer": "ipython3",
   "version": "3.7.6"
  }
 },
 "nbformat": 4,
 "nbformat_minor": 4
}
